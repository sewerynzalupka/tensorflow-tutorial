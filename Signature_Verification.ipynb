{
  "nbformat": 4,
  "nbformat_minor": 0,
  "metadata": {
    "colab": {
      "name": "Copy of Untitled",
      "version": "0.3.2",
      "provenance": []
    },
    "kernelspec": {
      "name": "python3",
      "display_name": "Python 3"
    },
    "accelerator": "GPU"
  },
  "cells": [
    {
      "metadata": {
        "id": "d1DjltuNY5x0",
        "colab_type": "code",
        "colab": {}
      },
      "cell_type": "code",
      "source": [
        "import os\n",
        "work_dir = \"/content/tensorflow-tutorial/\"\n",
        "if os.getcwd() != work_dir:\n",
        "    !git clone https://github.com/sewerynzalupka/tensorflow-tutorial.git\n",
        "os.chdir(work_dir)\n",
        "\n",
        "!pip install -r requirements.txt"
      ],
      "execution_count": 0,
      "outputs": []
    },
    {
      "metadata": {
        "id": "dPkGC8z8aH9H",
        "colab_type": "text"
      },
      "cell_type": "markdown",
      "source": [
        "# Imports"
      ]
    },
    {
      "metadata": {
        "id": "ulDRle68aJ9E",
        "colab_type": "code",
        "colab": {}
      },
      "cell_type": "code",
      "source": [
        "%matplotlib inline\n",
        "import PIL\n",
        "import os\n",
        "from __future__ import absolute_import, division, print_function\n",
        "\n",
        "# TensorFlow and tf.keras\n",
        "import tensorflow as tf\n",
        "from tensorflow import keras\n",
        "\n",
        "# Helper libraries\n",
        "import numpy as np\n",
        "import matplotlib.pyplot as plt\n",
        "\n",
        "print(tf.__version__)"
      ],
      "execution_count": 0,
      "outputs": []
    },
    {
      "metadata": {
        "id": "iwWladPdazXP",
        "colab_type": "text"
      },
      "cell_type": "markdown",
      "source": [
        "# Dataset - SigComp2011"
      ]
    },
    {
      "metadata": {
        "id": "yVWoEapabE_X",
        "colab_type": "text"
      },
      "cell_type": "markdown",
      "source": [
        "Download training and test sets"
      ]
    },
    {
      "metadata": {
        "id": "EhS9rJcya5Cm",
        "colab_type": "code",
        "colab": {}
      },
      "cell_type": "code",
      "source": [
        "!wget http://www.iapr-tc11.org/dataset/ICDAR_SignatureVerification/SigComp2011/sigComp2011-trainingSet.zip"
      ],
      "execution_count": 0,
      "outputs": []
    },
    {
      "metadata": {
        "id": "VlcEde8ebKrP",
        "colab_type": "code",
        "colab": {}
      },
      "cell_type": "code",
      "source": [
        "!wget http://www.iapr-tc11.org/dataset/ICDAR_SignatureVerification/SigComp2011/sigComp2011-test.zip"
      ],
      "execution_count": 0,
      "outputs": []
    },
    {
      "metadata": {
        "id": "cBvx2eJvbhGs",
        "colab_type": "code",
        "colab": {}
      },
      "cell_type": "code",
      "source": [
        "!ls"
      ],
      "execution_count": 0,
      "outputs": []
    },
    {
      "metadata": {
        "id": "4GdQurBHcGbv",
        "colab_type": "text"
      },
      "cell_type": "markdown",
      "source": [
        "Unzip data"
      ]
    },
    {
      "metadata": {
        "id": "qMLxzr6ocMZe",
        "colab_type": "code",
        "colab": {}
      },
      "cell_type": "code",
      "source": [
        "!mkdir -p test"
      ],
      "execution_count": 0,
      "outputs": []
    },
    {
      "metadata": {
        "id": "QBztuzP8clSQ",
        "colab_type": "code",
        "colab": {}
      },
      "cell_type": "code",
      "source": [
        "!mkdir -p train"
      ],
      "execution_count": 0,
      "outputs": []
    },
    {
      "metadata": {
        "id": "ZQEsZfnEcom2",
        "colab_type": "code",
        "colab": {}
      },
      "cell_type": "code",
      "source": [
        "import zipfile\n",
        "with zipfile.ZipFile('sigComp2011-test.zip', 'r') as zip:\n",
        "  zip.extractall('test',pwd=b'I hereby accept the SigComp 2011 disclaimer.')\n",
        "\n",
        "with zipfile.ZipFile('sigComp2011-trainingSet.zip', 'r') as zip:\n",
        "  zip.extractall('train',pwd=b'I hereby accept the SigComp 2011 disclaimer.')"
      ],
      "execution_count": 0,
      "outputs": []
    },
    {
      "metadata": {
        "id": "2coqEXo3kPMX",
        "colab_type": "code",
        "colab": {}
      },
      "cell_type": "code",
      "source": [
        "!ls"
      ],
      "execution_count": 0,
      "outputs": []
    }
  ]
}