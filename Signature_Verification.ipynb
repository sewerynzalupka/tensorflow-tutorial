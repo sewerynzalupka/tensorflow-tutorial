{
  "nbformat": 4,
  "nbformat_minor": 0,
  "metadata": {
    "colab": {
      "name": "Copy of Untitled",
      "version": "0.3.2",
      "provenance": []
    },
    "kernelspec": {
      "name": "python3",
      "display_name": "Python 3"
    },
    "accelerator": "GPU"
  },
  "cells": [
    {
      "metadata": {
        "id": "d1DjltuNY5x0",
        "colab_type": "code",
        "outputId": "48484e44-e663-4b0c-ed4b-35f8effc0322",
        "colab": {
          "base_uri": "https://localhost:8080/",
          "height": 141
        }
      },
      "cell_type": "code",
      "source": [
        "import os\n",
        "work_dir = \"/content/tensorflow-tutorial/\"\n",
        "if os.getcwd() != work_dir:\n",
        "    !git clone https://github.com/sewerynzalupka/tensorflow-tutorial.git\n",
        "os.chdir(work_dir)\n",
        "\n",
        "# !pip install -r requirements.txt"
      ],
      "execution_count": 1,
      "outputs": [
        {
          "output_type": "stream",
          "text": [
            "Cloning into 'tensorflow-tutorial'...\n",
            "remote: Enumerating objects: 503, done.\u001b[K\n",
            "remote: Counting objects: 100% (503/503), done.\u001b[K\n",
            "remote: Compressing objects: 100% (273/273), done.\u001b[K\n",
            "remote: Total 503 (delta 242), reused 483 (delta 225), pack-reused 0\u001b[K\n",
            "Receiving objects: 100% (503/503), 62.71 MiB | 29.00 MiB/s, done.\n",
            "Resolving deltas: 100% (242/242), done.\n"
          ],
          "name": "stdout"
        }
      ]
    },
    {
      "metadata": {
        "id": "dPkGC8z8aH9H",
        "colab_type": "text"
      },
      "cell_type": "markdown",
      "source": [
        "# Imports"
      ]
    },
    {
      "metadata": {
        "id": "ulDRle68aJ9E",
        "colab_type": "code",
        "outputId": "cd78d447-6618-4d9d-8e05-64905b366602",
        "colab": {
          "base_uri": "https://localhost:8080/",
          "height": 34
        }
      },
      "cell_type": "code",
      "source": [
        "%matplotlib inline\n",
        "import PIL\n",
        "import os\n",
        "from __future__ import absolute_import, division, print_function\n",
        "\n",
        "# TensorFlow and tf.keras\n",
        "import tensorflow as tf\n",
        "from tensorflow import keras\n",
        "\n",
        "# Helper libraries\n",
        "import numpy as np\n",
        "import matplotlib.pyplot as plt\n",
        "\n",
        "print(tf.__version__)"
      ],
      "execution_count": 2,
      "outputs": [
        {
          "output_type": "stream",
          "text": [
            "1.13.1\n"
          ],
          "name": "stdout"
        }
      ]
    },
    {
      "metadata": {
        "id": "iwWladPdazXP",
        "colab_type": "text"
      },
      "cell_type": "markdown",
      "source": [
        "# Dataset - SigComp2011"
      ]
    },
    {
      "metadata": {
        "id": "yVWoEapabE_X",
        "colab_type": "text"
      },
      "cell_type": "markdown",
      "source": [
        "Download and extract training and test sets (or use cached files)"
      ]
    },
    {
      "metadata": {
        "id": "qMLxzr6ocMZe",
        "colab_type": "code",
        "outputId": "5d3235f6-3c6f-46b3-83fe-387e731bc833",
        "colab": {
          "base_uri": "https://localhost:8080/",
          "height": 158
        }
      },
      "cell_type": "code",
      "source": [
        "import signatures\n",
        "\n",
        "signatures.maybe_download_and_extract()"
      ],
      "execution_count": 3,
      "outputs": [
        {
          "output_type": "stream",
          "text": [
            "Downloading train data from http://www.iapr-tc11.org/dataset/ICDAR_SignatureVerification/SigComp2011/sigComp2011-trainingSet.zip ...\n",
            "- Download progress: 100.0%\n",
            "Download finished. Extracting files.\n",
            "- Extracting progress: 100.0%Done.\n",
            "Downloading test data from http://www.iapr-tc11.org/dataset/ICDAR_SignatureVerification/SigComp2011/sigComp2011-test.zip ...\n",
            "- Download progress: 100.0%\n",
            "Download finished. Extracting files.\n",
            "- Extracting progress: 100.0%Done.\n"
          ],
          "name": "stdout"
        }
      ]
    },
    {
      "metadata": {
        "id": "3zQS8vw824_D",
        "colab_type": "code",
        "outputId": "a1471e1e-5812-4527-b183-90f212b5fe16",
        "colab": {
          "base_uri": "https://localhost:8080/",
          "height": 496
        }
      },
      "cell_type": "code",
      "source": [
        "!ls "
      ],
      "execution_count": 53,
      "outputs": [
        {
          "output_type": "stream",
          "text": [
            "01_Simple_Linear_Model.ipynb\t       cifar10.py\n",
            "02_Convolutional_Neural_Network.ipynb  coco.py\n",
            "03B_Layers_API.ipynb\t\t       convert.py\n",
            "03C_Keras_API.ipynb\t\t       data\n",
            "03_PrettyTensor.ipynb\t\t       dataset.py\n",
            "04_Save_Restore.ipynb\t\t       download.py\n",
            "05_Ensemble_Learning.ipynb\t       europarl.py\n",
            "06_CIFAR-10.ipynb\t\t       forks.md\n",
            "07_Inception_Model.ipynb\t       images\n",
            "08_Transfer_Learning.ipynb\t       imdb.py\n",
            "09_Video_Data.ipynb\t\t       inception5h.py\n",
            "10_Fine-Tuning.ipynb\t\t       inception.py\n",
            "11_Adversarial_Examples.ipynb\t       knifey.py\n",
            "12_Adversarial_Noise_MNIST.ipynb       LICENSE\n",
            "13B_Visual_Analysis_MNIST.ipynb        mnist.py\n",
            "13_Visual_Analysis.ipynb\t       __pycache__\n",
            "14_DeepDream.ipynb\t\t       README.md\n",
            "15_Style_Transfer.ipynb\t\t       reinforcement_learning.py\n",
            "16_Reinforcement_Learning.ipynb        requirements.txt\n",
            "17_Estimator_API.ipynb\t\t       signatures_dataset.py\n",
            "18_TFRecords_Dataset_API.ipynb\t       signatures.py\n",
            "19_Hyper-Parameters.ipynb\t       Signature_Verification.ipynb\n",
            "20_Natural_Language_Processing.ipynb   Testdata_SigComp2011\n",
            "21_Machine_Translation.ipynb\t       trainingSet\n",
            "22_Image_Captioning.ipynb\t       vgg16.py\n",
            "23_Time-Series-Prediction.ipynb        weather.py\n",
            "cache.py\n"
          ],
          "name": "stdout"
        }
      ]
    },
    {
      "metadata": {
        "id": "lvDPrGA93WO7",
        "colab_type": "text"
      },
      "cell_type": "markdown",
      "source": [
        "This dataset has different directory structure than the Keras API requires, so copy the files into separate directories for the training- and test-sets."
      ]
    },
    {
      "metadata": {
        "id": "bKUsK8Sl3cLT",
        "colab_type": "code",
        "outputId": "19b57474-b097-42d6-a4ac-8acf5813153d",
        "colab": {
          "base_uri": "https://localhost:8080/",
          "height": 107
        }
      },
      "cell_type": "code",
      "source": [
        "from PIL import Image\n",
        "import pickle\n",
        "import cv2\n",
        "\n",
        "def NormalizedImage(img, new_height, new_width):\n",
        "  cImg = 255*np.ones((new_height,new_width,3))\n",
        "  width =  np.size(img,1)\n",
        "  height = np.size(img,0)\n",
        "  left = int((new_width - width)/2.)\n",
        "  top = int(((new_height - height)/2.))\n",
        "  right = int(((width + new_width)/2.))\n",
        "  bottom = int(((height + new_height)/2.))\n",
        "  cImg[top:bottom, left:right,:] = img\n",
        "  return cImg\n",
        "\n",
        "path = os.listdir('trainingSet/OfflineSignatures/Dutch/TrainingSet/Offline Genuine/')\n",
        "path.sort(key=str.lower)\n",
        "\n",
        "print(path)\n",
        "print(path[0], path[0][:3])\n",
        "\n",
        "def get_filenames(ext, dir):\n",
        "  filenames = []\n",
        "  for root, dirs, files in os.walk(dir):\n",
        "    for file in files:\n",
        "      if file.lower().endswith(ext.lower()):\n",
        "        filenames.append(file)\n",
        "  return filenames\n",
        "\n",
        "print(get_filenames('.png', 'trainingSet/OfflineSignatures/Dutch/TrainingSet/Offline Genuine/'))\n",
        "\n",
        "import re\n",
        "forgery_filename_pattern = r\"(?P<forger>\\d{4})(?P<signer>\\d{3})_(?P<i>\\d{2})\"\n",
        "genuine_filename_pattern = r\"(?P<signer>\\d{3})_(?P<i>\\d{2})\"\n",
        "\n",
        "signers = set()\n",
        "for filename in get_filenames('.png', 'trainingSet/OfflineSignatures/Dutch/'):\n",
        "#   forgery_match = re.match(forgery_filename_pattern, filename)\n",
        "  genuine_match = re.match(genuine_filename_pattern, filename)\n",
        "#   if forgery_match:\n",
        "#     signers.add(forgery_match.group('signer'))\n",
        "  if genuine_match:\n",
        "    signers.add(genuine_match.group('signer'))\n",
        "    \n",
        "print(sorted(list(signers)))"
      ],
      "execution_count": 37,
      "outputs": [
        {
          "output_type": "stream",
          "text": [
            "['001_01.PNG', '001_02.PNG', '001_03.PNG', '001_04.PNG', '001_05.PNG', '001_06.PNG', '001_07.PNG', '001_08.PNG', '001_09.PNG', '001_10.PNG', '001_11.PNG', '001_12.PNG', '001_13.PNG', '001_14.PNG', '001_15.PNG', '001_16.PNG', '001_17.PNG', '001_18.PNG', '001_19.PNG', '001_20.PNG', '001_21.PNG', '001_22.PNG', '001_23.PNG', '001_24.PNG', '002_01.PNG', '002_02.PNG', '002_03.PNG', '002_04.PNG', '002_05.PNG', '002_06.PNG', '002_07.PNG', '002_08.PNG', '002_09.PNG', '002_10.PNG', '002_11.PNG', '002_12.PNG', '002_13.PNG', '002_14.PNG', '002_15.PNG', '002_16.PNG', '002_17.PNG', '002_18.PNG', '002_19.PNG', '002_20.PNG', '002_21.PNG', '002_22.PNG', '002_23.PNG', '002_24.PNG', '003_01.PNG', '003_02.PNG', '003_03.PNG', '003_04.PNG', '003_05.PNG', '003_06.PNG', '003_07.PNG', '003_08.PNG', '003_09.PNG', '003_10.PNG', '003_11.PNG', '003_12.PNG', '003_13.PNG', '003_14.PNG', '003_15.PNG', '003_16.PNG', '003_17.PNG', '003_18.PNG', '003_19.PNG', '003_20.PNG', '003_21.PNG', '003_22.PNG', '003_23.PNG', '003_24.PNG', '004_01.PNG', '004_02.PNG', '004_03.PNG', '004_04.PNG', '004_05.PNG', '004_06.PNG', '004_07.PNG', '004_08.PNG', '004_09.PNG', '004_10.PNG', '004_11.PNG', '004_12.PNG', '004_13.PNG', '004_14.PNG', '004_15.PNG', '004_16.PNG', '004_17.PNG', '004_18.PNG', '004_19.PNG', '004_20.PNG', '004_21.PNG', '004_22.PNG', '004_23.PNG', '004_24.PNG', '006_01.PNG', '006_02.PNG', '006_03.PNG', '006_04.PNG', '006_05.PNG', '006_06.PNG', '006_07.PNG', '006_08.PNG', '006_09.PNG', '006_10.PNG', '006_11.PNG', '006_12.PNG', '006_13.PNG', '006_14.PNG', '006_15.PNG', '006_16.PNG', '006_17.PNG', '006_18.PNG', '006_19.PNG', '006_20.PNG', '006_21.PNG', '006_22.PNG', '006_23.PNG', '006_24.PNG', '009_01.PNG', '009_02.PNG', '009_03.PNG', '009_04.PNG', '009_05.PNG', '009_06.PNG', '009_07.PNG', '009_08.PNG', '009_09.PNG', '009_10.PNG', '009_11.PNG', '009_12.PNG', '009_13.PNG', '009_14.PNG', '009_15.PNG', '009_16.PNG', '009_17.PNG', '009_18.PNG', '009_19.PNG', '009_20.PNG', '009_21.PNG', '009_22.PNG', '009_23.PNG', '009_24.PNG', '012_01.PNG', '012_02.PNG', '012_03.PNG', '012_04.PNG', '012_05.PNG', '012_06.PNG', '012_07.PNG', '012_08.PNG', '012_09.PNG', '012_10.PNG', '012_11.PNG', '012_12.PNG', '012_13.PNG', '012_14.PNG', '012_15.PNG', '012_16.PNG', '012_17.PNG', '012_18.PNG', '012_19.PNG', '012_20.PNG', '012_21.PNG', '012_22.PNG', '012_23.PNG', '012_24.PNG', '014_01.PNG', '014_02.PNG', '014_03.PNG', '014_04.PNG', '014_05.PNG', '014_06.PNG', '014_07.PNG', '014_08.PNG', '014_09.PNG', '014_10.PNG', '014_11.PNG', '014_12.PNG', '014_13.PNG', '014_14.PNG', '014_15.PNG', '014_16.PNG', '014_17.PNG', '014_18.PNG', '014_19.PNG', '014_20.PNG', '014_21.PNG', '014_22.PNG', '014_23.PNG', '014_24.PNG', '015_01.PNG', '015_02.PNG', '015_03.PNG', '015_04.PNG', '015_05.PNG', '015_06.PNG', '015_07.PNG', '015_08.PNG', '015_09.PNG', '015_10.PNG', '015_11.PNG', '015_12.PNG', '015_13.PNG', '015_14.PNG', '015_15.PNG', '015_16.PNG', '015_17.PNG', '015_18.PNG', '015_19.PNG', '015_20.PNG', '015_21.PNG', '015_22.PNG', '015_23.PNG', '015_24.PNG', '016_01.PNG', '016_02.PNG', '016_03.PNG', '016_04.PNG', '016_05.PNG', '016_06.PNG', '016_07.PNG', '016_08.PNG', '016_09.PNG', '016_10.PNG', '016_11.PNG', '016_12.PNG', '016_13.PNG', '016_14.PNG', '016_15.PNG', '016_16.PNG', '016_17.PNG', '016_18.PNG', '016_20.PNG', '016_21.PNG', '016_22.PNG', '016_23.PNG', '016_24.PNG']\n",
            "001_01.PNG 001\n",
            "['002_07.PNG', '009_02.PNG', '014_21.PNG', '001_02.PNG', '004_22.PNG', '003_13.PNG', '012_20.PNG', '001_01.PNG', '001_10.PNG', '009_13.PNG', '004_08.PNG', '006_22.PNG', '014_08.PNG', '001_13.PNG', '012_03.PNG', '006_12.PNG', '014_12.PNG', '014_11.PNG', '016_20.PNG', '004_12.PNG', '014_18.PNG', '012_13.PNG', '012_05.PNG', '003_03.PNG', '012_19.PNG', '009_03.PNG', '016_21.PNG', '014_10.PNG', '003_07.PNG', '015_22.PNG', '015_07.PNG', '016_22.PNG', '003_08.PNG', '015_24.PNG', '003_19.PNG', '001_20.PNG', '006_18.PNG', '014_06.PNG', '014_09.PNG', '001_18.PNG', '015_10.PNG', '001_15.PNG', '012_07.PNG', '016_13.PNG', '015_08.PNG', '003_24.PNG', '012_12.PNG', '006_19.PNG', '004_02.PNG', '009_04.PNG', '002_01.PNG', '004_18.PNG', '009_17.PNG', '006_24.PNG', '001_24.PNG', '003_12.PNG', '012_08.PNG', '003_14.PNG', '003_16.PNG', '014_19.PNG', '016_16.PNG', '015_06.PNG', '001_12.PNG', '001_21.PNG', '015_18.PNG', '002_19.PNG', '002_22.PNG', '014_02.PNG', '009_14.PNG', '003_17.PNG', '001_19.PNG', '004_07.PNG', '015_13.PNG', '003_15.PNG', '006_11.PNG', '016_01.PNG', '016_05.PNG', '003_11.PNG', '009_23.PNG', '015_09.PNG', '009_01.PNG', '002_03.PNG', '012_22.PNG', '012_02.PNG', '012_23.PNG', '006_23.PNG', '009_11.PNG', '003_04.PNG', '002_16.PNG', '016_23.PNG', '015_20.PNG', '012_06.PNG', '004_09.PNG', '006_14.PNG', '016_24.PNG', '006_03.PNG', '004_04.PNG', '009_05.PNG', '002_21.PNG', '015_04.PNG', '002_18.PNG', '015_01.PNG', '009_22.PNG', '001_17.PNG', '016_08.PNG', '003_21.PNG', '012_17.PNG', '006_17.PNG', '006_01.PNG', '002_20.PNG', '012_09.PNG', '004_23.PNG', '004_10.PNG', '012_10.PNG', '015_11.PNG', '015_23.PNG', '002_12.PNG', '016_04.PNG', '012_18.PNG', '006_02.PNG', '002_10.PNG', '012_04.PNG', '014_04.PNG', '004_11.PNG', '004_05.PNG', '002_17.PNG', '003_23.PNG', '015_21.PNG', '014_03.PNG', '012_11.PNG', '001_14.PNG', '012_15.PNG', '004_19.PNG', '015_05.PNG', '003_10.PNG', '012_16.PNG', '016_14.PNG', '002_08.PNG', '016_18.PNG', '012_24.PNG', '004_20.PNG', '014_17.PNG', '006_05.PNG', '015_17.PNG', '004_17.PNG', '015_16.PNG', '012_21.PNG', '015_19.PNG', '009_09.PNG', '004_15.PNG', '009_24.PNG', '006_09.PNG', '006_10.PNG', '016_09.PNG', '009_06.PNG', '004_21.PNG', '002_15.PNG', '004_13.PNG', '001_07.PNG', '016_12.PNG', '014_14.PNG', '009_08.PNG', '015_15.PNG', '004_01.PNG', '006_06.PNG', '004_03.PNG', '002_13.PNG', '014_15.PNG', '009_20.PNG', '016_10.PNG', '006_20.PNG', '015_12.PNG', '016_11.PNG', '004_24.PNG', '014_01.PNG', '009_16.PNG', '006_16.PNG', '001_04.PNG', '016_03.PNG', '014_22.PNG', '004_16.PNG', '002_09.PNG', '002_05.PNG', '016_07.PNG', '002_23.PNG', '006_13.PNG', '001_03.PNG', '006_04.PNG', '003_20.PNG', '006_07.PNG', '006_21.PNG', '009_18.PNG', '009_19.PNG', '014_13.PNG', '015_02.PNG', '014_16.PNG', '001_23.PNG', '015_03.PNG', '014_05.PNG', '003_06.PNG', '003_05.PNG', '012_14.PNG', '001_06.PNG', '006_15.PNG', '009_07.PNG', '001_05.PNG', '012_01.PNG', '014_23.PNG', '003_09.PNG', '006_08.PNG', '009_10.PNG', '003_02.PNG', '002_04.PNG', '014_20.PNG', '015_14.PNG', '002_24.PNG', '001_16.PNG', '009_21.PNG', '004_14.PNG', '004_06.PNG', '001_11.PNG', '003_22.PNG', '016_02.PNG', '001_22.PNG', '014_07.PNG', '016_15.PNG', '014_24.PNG', '003_18.PNG', '002_02.PNG', '002_14.PNG', '001_09.PNG', '016_06.PNG', '003_01.PNG', '001_08.PNG', '002_11.PNG', '016_17.PNG', '009_15.PNG', '009_12.PNG', '002_06.PNG']\n",
            "['001', '002', '003', '004', '006', '009', '012', '014', '015', '016']\n"
          ],
          "name": "stdout"
        }
      ]
    },
    {
      "metadata": {
        "id": "140j_K1Q-N9b",
        "colab_type": "code",
        "outputId": "4411acc9-9b88-4268-d8e2-c25e5da99897",
        "colab": {
          "base_uri": "https://localhost:8080/",
          "height": 125
        }
      },
      "cell_type": "code",
      "source": [
        "import numpy as np\n",
        "import os\n",
        "import shutil\n",
        "from cache import cache\n",
        "import re\n",
        "\n",
        "forgery_filename_pattern = r\"(?P<forger>\\d{{4}})(?P<signer>\\d{{3}})_(?P<i>\\d{{2}})({exts})$\"\n",
        "genuine_filename_pattern = r\"(?P<signer>\\d{{3}})_(?P<i>\\d{{2}})({exts})$\"\n",
        "\n",
        "class SignaturesDataset:\n",
        "    def __init__(self, train_dir, test_dir, exts=['.png']):\n",
        "        \"\"\"\n",
        "        Create a data-set consisting of the filenames in the given directory\n",
        "        and sub-dirs that match the given filename-extensions.\n",
        "\n",
        "        :param train_dir:\n",
        "            Root-dir for the files in the data-set.\n",
        "            \n",
        "        :param test_dir:\n",
        "            Root-dir for the files in the data-set.\n",
        "\n",
        "        :param exts:\n",
        "            String or tuple of strings with valid filename-extensions.\n",
        "            Not case-sensitive.\n",
        "\n",
        "        :return:\n",
        "            Object instance.\n",
        "        \"\"\"\n",
        "\n",
        "        # Extend input directories to the full path.\n",
        "        train_dir = os.path.abspath(train_dir)\n",
        "        test_dir = os.path.abspath(test_dir)\n",
        "\n",
        "        # Input directories.\n",
        "        self.train_dir = train_dir\n",
        "        self.test_dir = test_dir\n",
        "\n",
        "        # Convert all file-extensions to lower-case.\n",
        "        self.exts = tuple(ext.lower() for ext in exts)\n",
        "\n",
        "        # Train set\n",
        "        signatures = {}\n",
        "        for filename in self._get_filenames(self.train_dir):\n",
        "            forgery_match = re.search(forgery_filename_pattern.format(exts='|'.join(self.exts)), filename.lower())\n",
        "            if forgery_match:\n",
        "                forged_signer = forgery_match.group('signer')\n",
        "                if forged_signer not in signatures:\n",
        "                    signatures[forged_signer] = { 'genuine': [], 'forgeries': [] }\n",
        "                signatures[forged_signer]['forgeries'].append(filename)\n",
        "                continue\n",
        "            genuine_match = re.search(genuine_filename_pattern.format(exts='|'.join(self.exts)), filename.lower())\n",
        "            if genuine_match:\n",
        "                signer = genuine_match.group('signer')\n",
        "                if signer not in signatures:\n",
        "                    signatures[signer] = { 'genuine': [], 'forgeries': [] }\n",
        "                signatures[signer]['genuine'].append(filename)\n",
        "        \n",
        "        authors = list(signatures.keys())\n",
        "        \n",
        "        self.signatures_dict = signatures\n",
        "        \n",
        "        self.genuine_classes = ['{author}_genuine'.format(author=author) for author in authors]\n",
        "        self.forged_classes = ['{author}_forged'.format(author=author) for author in authors]\n",
        "        self.classes = self.genuine_classes + self.forged_classes\n",
        "        \n",
        "        self.num_classes = len(self.classes)\n",
        "                \n",
        "    def _get_filenames(self, dir):\n",
        "        \"\"\"\n",
        "        Create and return a list of filenames with matching extensions in the given directory.\n",
        "\n",
        "        :param dir:\n",
        "            Directory to scan for files. Sub-dirs are not scanned.\n",
        "\n",
        "        :return:\n",
        "            List of filenames. Only filenames. Does not include the directory.\n",
        "        \"\"\"\n",
        "        filenames = []\n",
        "        for root, dirs, files in os.walk(dir):\n",
        "            for file in files:\n",
        "                if file.lower().endswith(self.exts):\n",
        "                    filenames.append(os.path.join(root, file))\n",
        "        return filenames\n",
        "\n",
        "test_dir = 'Testdata_SigComp2011/SigComp11-Offlinetestset/Dutch/'\n",
        "train_dir='trainingSet/OfflineSignatures/Dutch/TrainingSet/'\n",
        "ds = SignaturesDataset(test_dir=test_dir, train_dir=train_dir)\n",
        "print(ds.classes)\n",
        "print(ds.num_classes)\n",
        "# print(ds.train_dir, ds.test_dir)\n",
        "# print(list(ds.train_signatures_dict.keys()))\n",
        "# for author in list(ds.train_signatures_dict.keys()):\n",
        "#     print(author)\n",
        "#     print('genuine signatures count: ', len(ds.train_signatures_dict[author]['genuine']))\n",
        "#     print(ds.train_signatures_dict[author]['genuine'])\n",
        "#     print('forged signatures count: ', len(ds.train_signatures_dict[author]['forgeries']))\n",
        "#     print(ds.train_signatures_dict[author]['forgeries'])\n",
        "\n",
        "def load_cached(cache_path, train_dir, test_dir):\n",
        "    \"\"\"\n",
        "    Wrapper-function for creating a DataSet-object, which will be\n",
        "    loaded from a cache-file if it already exists, otherwise a new\n",
        "    object will be created and saved to the cache-file.\n",
        "\n",
        "    This is useful if you need to ensure the ordering of the\n",
        "    filenames is consistent every time you load the data-set,\n",
        "    for example if you use the DataSet-object in combination\n",
        "    with Transfer Values saved to another cache-file, see e.g.\n",
        "    Tutorial #09 for an example of this.\n",
        "\n",
        "    :param cache_path:\n",
        "        File-path for the cache-file.\n",
        "\n",
        "    :param in_dir:\n",
        "        Root-dir for the files in the data-set.\n",
        "        This is an argument for the DataSet-init function.\n",
        "\n",
        "    :return:\n",
        "        The DataSet-object.\n",
        "    \"\"\"\n",
        "\n",
        "    print(\"Creating dataset from the training files in \" + train_dir + \" and the testing files in \" + test_dir)\n",
        "\n",
        "    # If the object-instance for SignaturesDataset already\n",
        "    # exists in the cache-file then reload it, otherwise create\n",
        "    # an object instance and save it to the cache-file for next time.\n",
        "    dataset = cache(cache_path=cache_path,\n",
        "                    fn=SignaturesDataset,\n",
        "                    train_dir=train_dir,\n",
        "                    test_dir=test_dir)\n",
        "\n",
        "    return dataset\n",
        "  \n",
        "load_cached(os.path.abspath(\"signatures.pkl\"), train_dir=train_dir, test_dir=test_dir)"
      ],
      "execution_count": 54,
      "outputs": [
        {
          "output_type": "stream",
          "text": [
            "['002_genuine', '009_genuine', '014_genuine', '001_genuine', '004_genuine', '003_genuine', '012_genuine', '006_genuine', '016_genuine', '015_genuine', '002_forged', '009_forged', '014_forged', '001_forged', '004_forged', '003_forged', '012_forged', '006_forged', '016_forged', '015_forged']\n",
            "20\n",
            "Creating dataset from the training files in trainingSet/OfflineSignatures/Dutch/TrainingSet/ and the testing files in Testdata_SigComp2011/SigComp11-Offlinetestset/Dutch/\n",
            "- Data saved to cache-file: /content/tensorflow-tutorial/signatures.pkl\n"
          ],
          "name": "stdout"
        },
        {
          "output_type": "execute_result",
          "data": {
            "text/plain": [
              "<__main__.SignaturesDataset at 0x7efef7e58c50>"
            ]
          },
          "metadata": {
            "tags": []
          },
          "execution_count": 54
        }
      ]
    },
    {
      "metadata": {
        "id": "p3rEolQuE4GD",
        "colab_type": "code",
        "colab": {
          "base_uri": "https://localhost:8080/",
          "height": 496
        },
        "outputId": "84680eb5-014a-4f19-b3c8-73228b241c00"
      },
      "cell_type": "code",
      "source": [
        "!ls"
      ],
      "execution_count": 55,
      "outputs": [
        {
          "output_type": "stream",
          "text": [
            "01_Simple_Linear_Model.ipynb\t       cifar10.py\n",
            "02_Convolutional_Neural_Network.ipynb  coco.py\n",
            "03B_Layers_API.ipynb\t\t       convert.py\n",
            "03C_Keras_API.ipynb\t\t       data\n",
            "03_PrettyTensor.ipynb\t\t       dataset.py\n",
            "04_Save_Restore.ipynb\t\t       download.py\n",
            "05_Ensemble_Learning.ipynb\t       europarl.py\n",
            "06_CIFAR-10.ipynb\t\t       forks.md\n",
            "07_Inception_Model.ipynb\t       images\n",
            "08_Transfer_Learning.ipynb\t       imdb.py\n",
            "09_Video_Data.ipynb\t\t       inception5h.py\n",
            "10_Fine-Tuning.ipynb\t\t       inception.py\n",
            "11_Adversarial_Examples.ipynb\t       knifey.py\n",
            "12_Adversarial_Noise_MNIST.ipynb       LICENSE\n",
            "13B_Visual_Analysis_MNIST.ipynb        mnist.py\n",
            "13_Visual_Analysis.ipynb\t       __pycache__\n",
            "14_DeepDream.ipynb\t\t       README.md\n",
            "15_Style_Transfer.ipynb\t\t       reinforcement_learning.py\n",
            "16_Reinforcement_Learning.ipynb        requirements.txt\n",
            "17_Estimator_API.ipynb\t\t       signatures_dataset.py\n",
            "18_TFRecords_Dataset_API.ipynb\t       signatures.pkl\n",
            "19_Hyper-Parameters.ipynb\t       signatures.py\n",
            "20_Natural_Language_Processing.ipynb   Signature_Verification.ipynb\n",
            "21_Machine_Translation.ipynb\t       Testdata_SigComp2011\n",
            "22_Image_Captioning.ipynb\t       trainingSet\n",
            "23_Time-Series-Prediction.ipynb        vgg16.py\n",
            "cache.py\t\t\t       weather.py\n"
          ],
          "name": "stdout"
        }
      ]
    },
    {
      "metadata": {
        "id": "uiqg2AEVm3-x",
        "colab_type": "code",
        "colab": {}
      },
      "cell_type": "code",
      "source": [
        ""
      ],
      "execution_count": 0,
      "outputs": []
    }
  ]
}